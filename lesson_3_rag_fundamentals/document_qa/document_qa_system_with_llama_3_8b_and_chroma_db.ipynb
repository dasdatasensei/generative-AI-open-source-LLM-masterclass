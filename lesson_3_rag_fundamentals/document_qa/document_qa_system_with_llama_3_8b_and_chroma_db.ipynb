{
 "cells": [
  {
   "cell_type": "markdown",
   "metadata": {},
   "source": [
    "# The Complete GenAI & RAG Masterclass\n",
    "## RAG Fundamentals and Vector Databases\n",
    "### Project: Document QA System with Llama 3 8B and Chroma DB\n",
    "\n",
    "**Author:** Dr. Jody-Ann S. Jones\n",
    "**GitHub:** [github.com/dasdatasensei](https://github.com/dasdatasensei)\n",
    "\n",
    "This notebook provides a VSCode implementation for local development.\n",
    "For the Google Colab version, see the companion `document_qa_system_with_llama_3_8b_and_chroma_db_colab.ipynb` notebook."
   ]
  },
  {
   "cell_type": "markdown",
   "metadata": {},
   "source": [
    "## Setup and Environment\n",
    "\n",
    "First, let's ensure we have all the necessary libraries installed. If you're running this notebook in the course's virtual environment, these should already be installed."
   ]
  },
  {
   "cell_type": "code",
   "execution_count": null,
   "metadata": {},
   "source": [
    "# Check and install required packages if needed\n",
    "import sys\n",
    "import subprocess\n",
    "\n",
    "required_packages = [\n",
    "    'torch', 'transformers', 'accelerate'\n",
    "]\n",
    "\n",
    "for package in required_packages:\n",
    "    try:\n",
    "        __import__(package)\n",
    "    except ImportError:\n",
    "        print(f'{package} not found, installing...')\n",
    "        subprocess.check_call([sys.executable, '-m', 'pip', 'install', package])\n",
    "        print(f'{package} installed successfully!')"
   ]
  },
  {
   "cell_type": "markdown",
   "metadata": {},
   "source": [
    "## Import Libraries\n",
    "\n",
    "Now let's import the libraries we'll need for this project."
   ]
  },
  {
   "cell_type": "code",
   "execution_count": null,
   "metadata": {},
   "source": [
    "import os\n",
    "import time\n",
    "import logging\n",
    "import torch\n",
    "\n",
    "# Configure logging\n",
    "logging.basicConfig(\n",
    "    level=logging.INFO,\n",
    "    format='%(asctime)s - %(name)s - %(levelname)s - %(message)s'\n",
    ")\n",
    "logger = logging.getLogger(__name__)"
   ]
  },
  {
   "cell_type": "markdown",
   "metadata": {},
   "source": [
    "## Project Implementation\n",
    "\n",
    "Your implementation will go here..."
   ]
  }
 ],
 "metadata": {
  "kernelspec": {
   "display_name": "Python 3",
   "language": "python",
   "name": "python3"
  },
  "language_info": {
   "codemirror_mode": {
    "name": "ipython",
    "version": 3
   },
   "file_extension": ".py",
   "mimetype": "text/x-python",
   "name": "python",
   "nbconvert_exporter": "python",
   "pygments_lexer": "ipython3",
   "version": "3.9.0"
  }
 },
 "nbformat": 4,
 "nbformat_minor": 4
}